{
  "nbformat": 4,
  "nbformat_minor": 0,
  "metadata": {
    "colab": {
      "name": "ft_linear_regression.ipynb",
      "provenance": [],
      "collapsed_sections": [],
      "include_colab_link": true
    },
    "kernelspec": {
      "name": "python3",
      "display_name": "Python 3"
    }
  },
  "cells": [
    {
      "cell_type": "markdown",
      "metadata": {
        "id": "view-in-github",
        "colab_type": "text"
      },
      "source": [
        "<a href=\"https://colab.research.google.com/github/SashaKryzh/ft_linear_regression/blob/master/ft_linear_regression.ipynb\" target=\"_parent\"><img src=\"https://colab.research.google.com/assets/colab-badge.svg\" alt=\"Open In Colab\"/></a>"
      ]
    },
    {
      "cell_type": "code",
      "metadata": {
        "id": "fLPHewoxc0bE"
      },
      "source": [
        "import pandas as pd\n",
        "import numpy as np\n",
        "import sklearn.preprocessing as prepr\n",
        "import matplotlib.pyplot as plt\n",
        "from matplotlib import animation, rc"
      ],
      "execution_count": null,
      "outputs": []
    },
    {
      "cell_type": "code",
      "metadata": {
        "id": "5kBBm39peRAf",
        "outputId": "8a5a1db1-744c-4e7c-ce84-517028af21c8",
        "colab": {
          "base_uri": "https://localhost:8080/",
          "height": 204
        }
      },
      "source": [
        "DATA_URL = 'https://raw.githubusercontent.com/SashaKryzh/ft_linear_regression/master/data.csv'\n",
        "df = pd.read_csv(DATA_URL)\n",
        "df.head()"
      ],
      "execution_count": null,
      "outputs": [
        {
          "output_type": "execute_result",
          "data": {
            "text/html": [
              "<div>\n",
              "<style scoped>\n",
              "    .dataframe tbody tr th:only-of-type {\n",
              "        vertical-align: middle;\n",
              "    }\n",
              "\n",
              "    .dataframe tbody tr th {\n",
              "        vertical-align: top;\n",
              "    }\n",
              "\n",
              "    .dataframe thead th {\n",
              "        text-align: right;\n",
              "    }\n",
              "</style>\n",
              "<table border=\"1\" class=\"dataframe\">\n",
              "  <thead>\n",
              "    <tr style=\"text-align: right;\">\n",
              "      <th></th>\n",
              "      <th>km</th>\n",
              "      <th>price</th>\n",
              "    </tr>\n",
              "  </thead>\n",
              "  <tbody>\n",
              "    <tr>\n",
              "      <th>0</th>\n",
              "      <td>240000</td>\n",
              "      <td>3650</td>\n",
              "    </tr>\n",
              "    <tr>\n",
              "      <th>1</th>\n",
              "      <td>139800</td>\n",
              "      <td>3800</td>\n",
              "    </tr>\n",
              "    <tr>\n",
              "      <th>2</th>\n",
              "      <td>150500</td>\n",
              "      <td>4400</td>\n",
              "    </tr>\n",
              "    <tr>\n",
              "      <th>3</th>\n",
              "      <td>185530</td>\n",
              "      <td>4450</td>\n",
              "    </tr>\n",
              "    <tr>\n",
              "      <th>4</th>\n",
              "      <td>176000</td>\n",
              "      <td>5250</td>\n",
              "    </tr>\n",
              "  </tbody>\n",
              "</table>\n",
              "</div>"
            ],
            "text/plain": [
              "       km  price\n",
              "0  240000   3650\n",
              "1  139800   3800\n",
              "2  150500   4400\n",
              "3  185530   4450\n",
              "4  176000   5250"
            ]
          },
          "metadata": {
            "tags": []
          },
          "execution_count": 17
        }
      ]
    },
    {
      "cell_type": "code",
      "metadata": {
        "id": "9GRwuPxofO47",
        "outputId": "8b1deca9-6219-4265-b981-188b4bbb9ad0",
        "colab": {
          "base_uri": "https://localhost:8080/",
          "height": 295
        }
      },
      "source": [
        "### BONUS ###\n",
        "\n",
        "def scatter(df):\n",
        "  fig, ax = plt.subplots()\n",
        "  ax.scatter(df['km'], df['price'])\n",
        "\n",
        "  ax.set_title('Usage vs Price')\n",
        "  ax.set_ylabel('Price (dollars)')\n",
        "  ax.set_xlabel('Usage (km)')\n",
        "\n",
        "  plt.show()\n",
        "\n",
        "scatter(df)"
      ],
      "execution_count": null,
      "outputs": [
        {
          "output_type": "display_data",
          "data": {
            "image/png": "[encoded data removed]",
            "text/plain": [
              "<Figure size 432x288 with 1 Axes>"
            ]
          },
          "metadata": {
            "tags": []
          }
        }
      ]
    },
    {
      "cell_type": "markdown",
      "metadata": {
        "id": "1rA0eCQAdlOu"
      },
      "source": [
        "# Train"
      ]
    },
    {
      "cell_type": "code",
      "metadata": {
        "id": "Rx03Mf5FU8ml"
      },
      "source": [
        "__weights__ = np.zeros(2)"
      ],
      "execution_count": 48,
      "outputs": []
    },
    {
      "cell_type": "code",
      "metadata": {
        "id": "dzfD9nNAFTMn",
        "outputId": "f7cd93c5-358f-4140-f82a-b24b07029269",
        "colab": {
          "base_uri": "https://localhost:8080/",
          "height": 434
        }
      },
      "source": [
        "# Scale data\n",
        "X = df['km'].to_numpy().reshape(-1, 1)\n",
        "scaler = prepr.StandardScaler().fit(X)\n",
        "X_scaled = scaler.transform(X)\n",
        "print(X_scaled)"
      ],
      "execution_count": 49,
      "outputs": [
        {
          "output_type": "stream",
          "text": [
            "[[ 2.69433217]\n",
            " [ 0.75116081]\n",
            " [ 0.95866514]\n",
            " [ 1.6379994 ]\n",
            " [ 1.4531848 ]\n",
            " [ 0.26633762]\n",
            " [ 1.27476986]\n",
            " [-0.23399991]\n",
            " [ 0.84230757]\n",
            " [-0.33096455]\n",
            " [-0.36918801]\n",
            " [-0.73705246]\n",
            " [-0.52489383]\n",
            " [-0.06916003]\n",
            " [-0.66064432]\n",
            " [-0.48562315]\n",
            " [-1.02455261]\n",
            " [-0.1564282 ]\n",
            " [-0.77799093]\n",
            " [-0.68635935]\n",
            " [-0.91275238]\n",
            " [-0.63155493]\n",
            " [-1.51589183]\n",
            " [-0.76170087]]\n"
          ],
          "name": "stdout"
        }
      ]
    },
    {
      "cell_type": "code",
      "metadata": {
        "id": "OzWy05HXi0mL",
        "outputId": "9273636d-d721-438a-a617-379e46e7fae9",
        "colab": {
          "base_uri": "https://localhost:8080/",
          "height": 54
        }
      },
      "source": [
        "def train(X, y, lr=0.1):\n",
        "  X = np.c_[np.ones(X.shape[0], dtype=np.int8), np.copy(X)]\n",
        "  w = np.random.rand(X.shape[1])\n",
        "\n",
        "  iter = 0\n",
        "  perf = []\n",
        "\n",
        "  while True:\n",
        "    iter += 1\n",
        "    \n",
        "    error = X.dot(w) - y\n",
        "    cost = np.sum(error ** 2) / (2 * X.shape[0])\n",
        "\n",
        "    perf.append((iter, cost, w))\n",
        "\n",
        "    if iter > 1 and abs(perf[-2][1] - cost < 0.001):\n",
        "      break\n",
        "\n",
        "    w = w - lr * (1 / X.shape[0]) * np.sum(error[:, None] * X, axis=0)\n",
        "\n",
        "  return perf\n",
        "  \n",
        "\n",
        "perf = train(X_scaled, df['price'].to_numpy())\n",
        "__weights__ = perf[-1][2]\n",
        "print(perf[-1])"
      ],
      "execution_count": 51,
      "outputs": [
        {
          "output_type": "stream",
          "text": [
            "(107, 222822.6266515941, array([ 6331.74395849, -1106.0042588 ]))\n"
          ],
          "name": "stdout"
        }
      ]
    },
    {
      "cell_type": "code",
      "metadata": {
        "id": "90kclJFObb9V",
        "outputId": "11d475ec-674d-4153-dce5-94419a7a0f89",
        "colab": {
          "base_uri": "https://localhost:8080/",
          "height": 34
        }
      },
      "source": [
        "### BONUS ###\n",
        "\n",
        "def precision(X, y):\n",
        "  X = np.c_[np.ones(X.shape[0], dtype=np.int8), np.copy(X)]\n",
        "  prediction = X.dot(__weights__)\n",
        "  errors = abs(prediction / y - 1)\n",
        "  precision = 1 - errors.mean()\n",
        "  print('Precision is %f' % precision)\n",
        "\n",
        "precision(X_scaled, df['price'].to_numpy())"
      ],
      "execution_count": null,
      "outputs": [
        {
          "output_type": "stream",
          "text": [
            "Precision is 0.903525\n"
          ],
          "name": "stdout"
        }
      ]
    },
    {
      "cell_type": "code",
      "metadata": {
        "id": "W-Bd5MJ-NGAo",
        "outputId": "422638a1-2c22-42ce-acbc-4d614c5c16b5",
        "colab": {
          "base_uri": "https://localhost:8080/",
          "height": 641
        }
      },
      "source": [
        "### BONUS ###\n",
        "\n",
        "def plot_performance(performance, X, y):\n",
        "  fig, axes = plt.subplots(ncols=2, figsize=(25, 10))\n",
        "  inversed = scaler.inverse_transform(X)\n",
        "\n",
        "  #\n",
        "  # Cost as a function of epoch\n",
        "  #\n",
        "\n",
        "  axes[0].set_title('Cost as a function of epoch')\n",
        "  axes[0].set_xlabel('epoch')\n",
        "  axes[0].set_ylabel('Cost')\n",
        "  cost = list(map(lambda x: x[1], performance))\n",
        "  axes[0].plot(range(0, performance[-1][0]), cost)\n",
        "\n",
        "  #\n",
        "  # Decision boundary\n",
        "  #\n",
        "\n",
        "  axes[1].set_title('Linear on epoch: %i' % performance[-1][0])\n",
        "  axes[1].set_xlabel('km')\n",
        "  axes[1].set_ylabel('Price')\n",
        "  axes[1].scatter(inversed, y)\n",
        "\n",
        "  # Displaying decision boundary on epoch\n",
        "  p = performance[-1][2]\n",
        "  plot_x = np.array([min(inversed) - 1000, max(inversed) + 1000])\n",
        "  plot_y = p[0] + scaler.transform(plot_x) * p[1]\n",
        "  axes[1].plot(plot_x, plot_y, 'b--', label = \"Price prediction\")\n",
        "\n",
        "  # Seting (x, y) plot limits\n",
        "  axes[1].set_xlim(min(inversed) - 1000, max(inversed) + 1000)\n",
        "  axes[1].set_ylim(min(y) - 100, max(y) + 100)\n",
        "\n",
        "  # Legend\n",
        "  axes[1].legend(loc='upper right')\n",
        "  axes[1].margins(0)\n",
        "\n",
        "  plt.show()\n",
        "  \n",
        "plot_performance(perf, X_scaled, df['price'].to_numpy())"
      ],
      "execution_count": null,
      "outputs": [
        {
          "output_type": "display_data",
          "data": {
            "image/png": "[encoded data removed]",
            "text/plain": [
              "<Figure size 1800x720 with 2 Axes>"
            ]
          },
          "metadata": {
            "tags": []
          }
        }
      ]
    },
    {
      "cell_type": "code",
      "metadata": {
        "id": "nZaKYS10ghKX"
      },
      "source": [
        "### BONUS ###\n",
        "\n",
        "def animate_performace(performance, X, y):\n",
        "  inversed = scaler.inverse_transform(X)\n",
        "\n",
        "  # Creating plot\n",
        "  fig, axes = plt.subplots(ncols=2, figsize=(25, 10))\n",
        "  plt.close()\n",
        "\n",
        "  #\n",
        "  # Errors as a function of epoch\n",
        "  #\n",
        "\n",
        "  axes[0].set_title('Cost as a function of epoch')\n",
        "  axes[0].set_xlabel('epoch')\n",
        "  axes[0].set_ylabel('Cost')\n",
        "  cost = list(map(lambda x: x[1], performance))\n",
        "\n",
        "  #\n",
        "  # Decision boundary\n",
        "  #\n",
        "\n",
        "  axes[1].set_xlabel('km')\n",
        "  axes[1].set_ylabel('Price')\n",
        "\n",
        "  # Seting (x, y) plot limits\n",
        "  axes[1].set_xlim(min(inversed), max(inversed))\n",
        "  axes[1].set_ylim(min(y) - 100, max(y) + 100)\n",
        "\n",
        "  axes[0].set_xlim(0, performance[-1][0] + 5)\n",
        "  axes[0].set_ylim(0, max(cost) + 10)\n",
        "\n",
        "  # To anim\n",
        "  fe ,= axes[0].plot([], [], lw=3)\n",
        "  db ,= axes[1].plot([], [], 'b--', label = \"Linear\", lw=2)\n",
        "  axes[1].scatter(inversed, y)\n",
        "\n",
        "  # Legend\n",
        "  axes[1].legend(loc='upper right')\n",
        "  axes[1].margins(0)\n",
        "\n",
        "  # Animation\n",
        "  def init():\n",
        "    fe.set_data([], [])\n",
        "    db.set_data([], [])\n",
        "    return db, fe\n",
        "\n",
        "  plot_x = np.array([min(inversed), max(inversed)])\n",
        "  def animate(i):\n",
        "    fe.set_data(range(performance[i][0]), cost[:i + 1])\n",
        "\n",
        "    p = performance[i][2]\n",
        "    plot_y = p[0] + scaler.transform(plot_x) * p[1]\n",
        "    db.set_data(plot_x, plot_y)\n",
        "    \n",
        "    axes[1].set_title('Linear on epoch: %i' % (i + 1))\n",
        "    axes[1].scatter(X, y)\n",
        "    \n",
        "    return db, fe\n",
        "\n",
        "  anim = animation.FuncAnimation(fig, animate, init_func=init, frames=performance[-1][0], blit=True)\n",
        "\n",
        "  # Note: below is the part which makes it work on Colab\n",
        "  rc('animation', html='jshtml')\n",
        "  return anim\n",
        "\n",
        "animate_performace(perf, X_scaled, df['price'].to_numpy())"
      ],
      "execution_count": null,
      "outputs": []
    },
    {
      "cell_type": "markdown",
      "metadata": {
        "id": "Ecp7_g7Xdcef"
      },
      "source": [
        "\n",
        "# Predict"
      ]
    },
    {
      "cell_type": "code",
      "metadata": {
        "id": "ClQPyzW-SxH4"
      },
      "source": [
        "def predict(km):\n",
        "  if km <= 0:\n",
        "    print('Wrong input')\n",
        "  elif __weights__ is None:\n",
        "    print(\"You didn't train the model\")\n",
        "  else:\n",
        "    scaled = scaler.transform([[km]])\n",
        "    prediction = __weights__[0] + __weights__[1] * scaled[0][0]\n",
        "    print('Estimated price for the car is: %i' % prediction)"
      ],
      "execution_count": null,
      "outputs": []
    },
    {
      "cell_type": "code",
      "metadata": {
        "id": "hj2SyilkVuLk",
        "outputId": "bdad7119-7ac2-4cef-be4d-49288f6e3481",
        "colab": {
          "base_uri": "https://localhost:8080/",
          "height": 54
        }
      },
      "source": [
        "predict(3200)"
      ],
      "execution_count": 52,
      "outputs": [
        {
          "output_type": "stream",
          "text": [
            "Estimated price for the car is: 8430\n"
          ],
          "name": "stdout"
        }
      ]
    },
    {
      "cell_type": "code",
      "metadata": {
        "id": "HPv44T6QYBpJ",
        "outputId": "a75729e1-5a67-4dcd-a310-5a7f9cd3802f",
        "colab": {
          "base_uri": "https://localhost:8080/",
          "height": 34
        }
      },
      "source": [
        "predict(20000)"
      ],
      "execution_count": null,
      "outputs": [
        {
          "output_type": "stream",
          "text": [
            "Estimated price for the car is: 8070\n"
          ],
          "name": "stdout"
        }
      ]
    },
    {
      "cell_type": "code",
      "metadata": {
        "id": "PGmaga_yYB03",
        "outputId": "8628ed04-cbf4-4810-e16b-09e91cf5e947",
        "colab": {
          "base_uri": "https://localhost:8080/",
          "height": 34
        }
      },
      "source": [
        "predict(360000)"
      ],
      "execution_count": null,
      "outputs": [
        {
          "output_type": "stream",
          "text": [
            "Estimated price for the car is: 777\n"
          ],
          "name": "stdout"
        }
      ]
    }
  ]
}